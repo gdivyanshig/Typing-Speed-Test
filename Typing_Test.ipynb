{
  "nbformat": 4,
  "nbformat_minor": 0,
  "metadata": {
    "colab": {
      "provenance": [],
      "authorship_tag": "ABX9TyNVIhPoaUg1OCfReMwYHsqY",
      "include_colab_link": true
    },
    "kernelspec": {
      "name": "python3",
      "display_name": "Python 3"
    },
    "language_info": {
      "name": "python"
    }
  },
  "cells": [
    {
      "cell_type": "markdown",
      "metadata": {
        "id": "view-in-github",
        "colab_type": "text"
      },
      "source": [
        "<a href=\"https://colab.research.google.com/github/gdivyanshig/Typing-Speed-Test/blob/main/Typing_Test.ipynb\" target=\"_parent\"><img src=\"https://colab.research.google.com/assets/colab-badge.svg\" alt=\"Open In Colab\"/></a>"
      ]
    },
    {
      "cell_type": "code",
      "source": [
        "from time import *\n",
        "import random as r"
      ],
      "metadata": {
        "id": "8klIiOcroRdB"
      },
      "execution_count": 11,
      "outputs": []
    },
    {
      "cell_type": "code",
      "source": [
        "def mistake(para_test,u_test):\n",
        "    error=0\n",
        "    for i in range(len(para_test)):\n",
        "        try:\n",
        "            if para_test[i]!=u_test[i]:\n",
        "                error=error+1\n",
        "        except:\n",
        "            error=error+1\n",
        "    return error"
      ],
      "metadata": {
        "id": "OzASCTHGqNzP"
      },
      "execution_count": 12,
      "outputs": []
    },
    {
      "cell_type": "code",
      "source": [
        "def u_speed(t_start,t_end,u_input):\n",
        "    t_delay=t_end-t_start\n",
        "    t_round=round(t_delay,2)\n",
        "    speed=len(u_input)/t_round\n",
        "    return round(speed)"
      ],
      "metadata": {
        "id": "ApUUo4R-sVq9"
      },
      "execution_count": 13,
      "outputs": []
    },
    {
      "cell_type": "code",
      "source": [
        "while True:\n",
        "  print(\"Ready to start the test ?\")\n",
        "  choice=input(\"yes/no : \")\n",
        "  if choice==\"yes\":\n",
        "    test=[\"The quick brown fox jumps over the lazy dog !\",\"We climbed to the top of the mountain in just two hours; isn’t that great?\",\" A bird in the hand is worth two in the bush\",\"Just staying one day ahead of yesterday\",\"What a wonderful activity of Eating a watery watermelon in a Wonderful Windy day !\"]\n",
        "    test1=r.choice(test)\n",
        "    print(\"***** Welcome to the Typing Test *****\")\n",
        "    print(test1)\n",
        "    time1=time()\n",
        "    u_input=input()\n",
        "    time2=time()\n",
        "    print(\"Speed : \",u_speed(time1,time2,u_input),\" word/sec\")\n",
        "    print(\"Error : \",mistake(test1,u_input))\n",
        "    break\n",
        "  elif choice==\"no\":\n",
        "    print(\"Thank you\")\n",
        "    break\n",
        "  else:\n",
        "    print(\"Wrong input\")\n",
        "    break\n"
      ],
      "metadata": {
        "colab": {
          "base_uri": "https://localhost:8080/"
        },
        "id": "BleHGbTQoc3i",
        "outputId": "5b6e1eff-1829-47d8-ba8d-4bebe552ecd4"
      },
      "execution_count": 19,
      "outputs": [
        {
          "output_type": "stream",
          "name": "stdout",
          "text": [
            "Ready to start the test ?\n",
            "yes/no : yes\n",
            "***** Welcome to the Typing Test *****\n",
            "Just staying one day ahead of yesterday\n",
            "Just staying one day ahead of yesterday\n",
            "Speed :  2  word/sec\n",
            "Error :  0\n",
            "Ready to start the test ?\n",
            "yes/no : 123\n",
            "Wrong input\n"
          ]
        }
      ]
    }
  ]
}